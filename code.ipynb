<H2>Capstone Project</H2>

<H4>Write some markdown to explain that this notebook will be mainly used for the capstone project.
Import the pandas library as pd.
Import the Numpy library as np.
Print the following the statement: Hello Capstone Project Course! </H4>

import pandas as pd
import numpy as np

print("Hello Capstone Project Course")
